{
  "nbformat": 4,
  "nbformat_minor": 0,
  "metadata": {
    "colab": {
      "name": "unet-singlechannel.ipynb",
      "provenance": [],
      "collapsed_sections": [],
      "include_colab_link": true
    },
    "kernelspec": {
      "name": "python3",
      "display_name": "Python 3"
    },
    "accelerator": "GPU"
  },
  "cells": [
    {
      "cell_type": "markdown",
      "metadata": {
        "id": "view-in-github",
        "colab_type": "text"
      },
      "source": [
        "<a href=\"https://colab.research.google.com/github/Shak97/iceest2019/blob/master/unet_singlechannel.ipynb\" target=\"_parent\"><img src=\"https://colab.research.google.com/assets/colab-badge.svg\" alt=\"Open In Colab\"/></a>"
      ]
    },
    {
      "cell_type": "markdown",
      "metadata": {
        "id": "HBhT2QRvhVgk",
        "colab_type": "text"
      },
      "source": [
        "##Import Dependencies"
      ]
    },
    {
      "cell_type": "code",
      "metadata": {
        "id": "tMvOF2bL0zQr",
        "colab_type": "code",
        "outputId": "2a6f3fdc-37bc-485d-9f28-08d4c3a6b3ea",
        "colab": {
          "base_uri": "https://localhost:8080/",
          "height": 35
        }
      },
      "source": [
        "import os\n",
        "import cv2\n",
        "import numpy as np\n",
        "import keras\n",
        "from keras import backend as k\n",
        "from keras.models import *\n",
        "from keras.layers import *\n",
        "from keras.optimizers import *\n",
        "from google.colab.patches import cv2_imshow"
      ],
      "execution_count": 0,
      "outputs": [
        {
          "output_type": "stream",
          "text": [
            "Using TensorFlow backend.\n"
          ],
          "name": "stderr"
        }
      ]
    },
    {
      "cell_type": "markdown",
      "metadata": {
        "id": "IKYCgl4RhEjJ",
        "colab_type": "text"
      },
      "source": [
        "###Directory Path"
      ]
    },
    {
      "cell_type": "code",
      "metadata": {
        "id": "Y9BYMVA91gij",
        "colab_type": "code",
        "colab": {}
      },
      "source": [
        "#directory path of images and their masks\n",
        "image_dir = '/content/drive/My Drive/h_segmentation/train_image/images/'\n",
        "mask_dir = '/content/drive/My Drive/h_segmentation/train_mask/labels/'"
      ],
      "execution_count": 0,
      "outputs": []
    },
    {
      "cell_type": "markdown",
      "metadata": {
        "id": "7skqsqH-gyI0",
        "colab_type": "text"
      },
      "source": [
        "###Reading Dir\n",
        "Reading and sorting of file names from directory"
      ]
    },
    {
      "cell_type": "code",
      "metadata": {
        "id": "Y0wKPoqp2R2d",
        "colab_type": "code",
        "colab": {}
      },
      "source": [
        "def sort_list(fil):\n",
        "  fil.sort()\n",
        "  templist = []\n",
        "  sublist = []\n",
        "  m = 0\n",
        "  start = 0\n",
        "\n",
        "  for i in range(len(fil)):\n",
        "    if fil[start][3:6] == fil[i][3:6]:\n",
        "        templist.append(fil[i])\n",
        "    else:\n",
        "        sublist.append('')\n",
        "        sublist[m] = templist.copy()\n",
        "        m+=1\n",
        "        templist.clear()\n",
        "        templist.append(fil[i])\n",
        "        start = i\n",
        "  sublist.append('')\n",
        "  sublist[m] = templist.copy()\n",
        "\n",
        "  for eachlist in sublist:\n",
        "    for i in range(len(eachlist)):\n",
        "      eachlist[i] = eachlist[i].split('.')[0]\n",
        "\n",
        "  for ls in sublist:\n",
        "    for i in range(len(ls)):\n",
        "      min = int(ls[i][11:])\n",
        "      minindex = i\n",
        "      for j in range(i+1, len(ls)):\n",
        "        if min > int(ls[j][11:]):\n",
        "          min = int(ls[j][11:])\n",
        "          minindex = j\n",
        "      temp = ls[i]\n",
        "      ls[i] = ls[minindex]\n",
        "      ls[minindex] = temp\n",
        "\n",
        "  for x in sublist:\n",
        "    for y in range(len(x)):\n",
        "      x[y] = x[y] + '.png'\n",
        "      \n",
        "  return sublist"
      ],
      "execution_count": 0,
      "outputs": []
    },
    {
      "cell_type": "code",
      "metadata": {
        "id": "hkRm2n1a1jfz",
        "colab_type": "code",
        "colab": {}
      },
      "source": [
        "fil = os.listdir(image_dir)\n",
        "trainx = sort_list(fil)\n",
        "n = []\n",
        "def flattenlist(l): \n",
        "  for i in l: \n",
        "    if type(i) == list: \n",
        "      flattenlist(i) \n",
        "    else: \n",
        "      n.append(i)\n",
        "flattenlist(trainx)\n",
        "print(n)"
      ],
      "execution_count": 0,
      "outputs": []
    },
    {
      "cell_type": "markdown",
      "metadata": {
        "id": "SnQZZCf79DEg",
        "colab_type": "text"
      },
      "source": [
        "##Reading Train Set\n",
        "Reading and Preprocessing of training images and their masks.<br />\n",
        "The dataset used for the task is an MR Heart Segmentation dataset downloaded from medical segmentation decathon website, It consists from 20 subjects scans, which is split in to 14,2 and 4 subjects for train, validation and test set respectively. For more info, visit the following url <br /> https://decathlon-10.grand-challenge.org/home"
      ]
    },
    {
      "cell_type": "code",
      "metadata": {
        "id": "-2fguoe57kkm",
        "colab_type": "code",
        "colab": {}
      },
      "source": [
        "train = []\n",
        "for image in range(1578):\n",
        "  train.append(cv2.imread(image_dir+n[image], cv2.IMREAD_GRAYSCALE))\n",
        "  \n",
        "train_X = np.asarray(train)\n",
        "train_X = train_X.astype('float32')\n",
        "train_X = train_X.reshape(1578,320,320,1)\n",
        "\n",
        "for i in range(1578):\n",
        "  train_X[i,:,:,:] /= 255.0"
      ],
      "execution_count": 0,
      "outputs": []
    },
    {
      "cell_type": "code",
      "metadata": {
        "id": "U-Umq02F5TkD",
        "colab_type": "code",
        "colab": {}
      },
      "source": [
        "trainy = []\n",
        "for image in range(1578):\n",
        "  trainy.append(cv2.imread(mask_dir+n[image], cv2.IMREAD_GRAYSCALE))\n",
        "  \n",
        "train_Y = np.asarray(trainy)\n",
        "train_Y = train_Y.astype('float32')\n",
        "train_Y = train_Y.reshape(1578,320,320,1)\n",
        "\n",
        "for i in range(1578):\n",
        "  train_Y[i,:,:,:] /= 255.0"
      ],
      "execution_count": 0,
      "outputs": []
    },
    {
      "cell_type": "markdown",
      "metadata": {
        "id": "alkuPHAD9PV8",
        "colab_type": "text"
      },
      "source": [
        "##Reading Validation Set\n",
        "Reading and Preprocessing of Validation images and their masks"
      ]
    },
    {
      "cell_type": "code",
      "metadata": {
        "id": "S65kslOHBb9D",
        "colab_type": "code",
        "colab": {}
      },
      "source": [
        "val = []\n",
        "for image in range(1578,1796):\n",
        "  val.append(cv2.imread(image_dir+n[image], cv2.IMREAD_GRAYSCALE))\n",
        "  \n",
        "val_X = np.asarray(val_x)\n",
        "val_X = val_X.astype('float32')\n",
        "val_X = val_X.reshape(218,320,320,1)\n",
        "\n",
        "for i in range(218):\n",
        "  val_X[i,:,:,:] /= 255.0"
      ],
      "execution_count": 0,
      "outputs": []
    },
    {
      "cell_type": "code",
      "metadata": {
        "id": "l67uEIN459Kl",
        "colab_type": "code",
        "colab": {}
      },
      "source": [
        "valy = []\n",
        "for image in range(1578,1796):\n",
        "  valy.append(cv2.imread(mask_dir+n[image], cv2.IMREAD_GRAYSCALE))\n",
        "  \n",
        "val_Y = np.asarray(valy)\n",
        "val_Y = val_Y.astype('float32')\n",
        "val_Y = val_Y.reshape(218,320,320,1)\n",
        "\n",
        "for i in range(218):\n",
        "  val_Y[i,:,:,:] /= 255.0"
      ],
      "execution_count": 0,
      "outputs": []
    },
    {
      "cell_type": "markdown",
      "metadata": {
        "id": "5Ur_WANP9X1Z",
        "colab_type": "text"
      },
      "source": [
        "###Reading Test Set Images and Masks\n",
        "Reading and Preprocessing of Test images and their masks"
      ]
    },
    {
      "cell_type": "code",
      "metadata": {
        "id": "suvzKffWE1US",
        "colab_type": "code",
        "colab": {}
      },
      "source": [
        "testx = []\n",
        "for image in range(1796,2251):\n",
        "  testx.append(cv2.imread(image_dir+n[image], cv2.IMREAD_GRAYSCALE))\n",
        "  \n",
        "test_X = np.asarray(testx)\n",
        "test_X = test_X.astype('float32')\n",
        "test_X = test_X.reshape(455,320,320,1)\n",
        "\n",
        "for i in range(455):\n",
        "  test_X[i,:,:,:] /= 255.0"
      ],
      "execution_count": 0,
      "outputs": []
    },
    {
      "cell_type": "code",
      "metadata": {
        "id": "iIa7E8WJNAPu",
        "colab_type": "code",
        "colab": {}
      },
      "source": [
        "testy = []\n",
        "for image in range(1796,2251):\n",
        "  testy.append(cv2.imread(mask_dir+n[image], cv2.IMREAD_GRAYSCALE))\n",
        "  \n",
        "test_Y = np.asarray(testy)\n",
        "test_Y = test_Y.astype('float32')\n",
        "\n",
        "for i in range(455):\n",
        "  test_Y[i,:,:] /= 255.0"
      ],
      "execution_count": 0,
      "outputs": []
    },
    {
      "cell_type": "code",
      "metadata": {
        "id": "94q8WMPZhABM",
        "colab_type": "code",
        "colab": {}
      },
      "source": [
        "#converts into binary representation using onehot encoding\n",
        "train_y = keras.utils.np_utils.to_categorical(y=train_Y)\n",
        "val_y = keras.utils.np_utils.to_categorical(y=val_Y)"
      ],
      "execution_count": 0,
      "outputs": []
    },
    {
      "cell_type": "markdown",
      "metadata": {
        "id": "HEHGwXUVkAh7",
        "colab_type": "text"
      },
      "source": [
        "##Dice Score Metric"
      ]
    },
    {
      "cell_type": "code",
      "metadata": {
        "id": "2ys_r6YNSpaq",
        "colab_type": "code",
        "colab": {}
      },
      "source": [
        "  def iou_coef(y_true, y_pred, smooth = 1):\n",
        "    y_true = k.flatten(y_true)\n",
        "    y_pred = k.flatten(y_pred)\n",
        "    intersection = k.sum(y_true * y_pred)\n",
        "    return (2. * intersection + smooth) / (k.sum(y_true) + k.sum(y_pred) + smooth)"
      ],
      "execution_count": 0,
      "outputs": []
    },
    {
      "cell_type": "markdown",
      "metadata": {
        "id": "cP5aGqIOkM9D",
        "colab_type": "text"
      },
      "source": [
        "###Model Definition and Compilation\n",
        "The proposed architecture is unet.<br />\n",
        "Model contains a total of 18 convolutional layers and one final conv layer with 2 output filters.<br />\n",
        "BatchNormalization is used after every convolutional layer except final.<br />\n",
        "The activation function is ReLu except the final layer which has a sigmoid function<br />\n",
        "MaxPool with pool size (2,2) is applied after every two convolution layers in the Encoder part of the model except the final layer. <br />\n",
        "Keras's Conv2DTranspose is applied in the decoder for UpSampling.<br />\n",
        "Input Shape (320,320,1); Output Shape (320,320,2) <br />\n",
        "The Optimizer is Adam with categorical crossentropy loss function.\n",
        "Dice Score Metric is used for model evaluation.\n",
        "\n"
      ]
    },
    {
      "cell_type": "code",
      "metadata": {
        "id": "LBzFMHRzSvIz",
        "colab_type": "code",
        "colab": {}
      },
      "source": [
        "def unet(weights = None, input_size = (320,320,1)):\n",
        "  \n",
        "  inp = keras.engine.input_layer.Input(input_size)\n",
        "  #Encoder\n",
        "  c1 = Conv2D(64, (3,3), activation='relu', padding='same')(inp)\n",
        "  c1 = BatchNormalization()(c1)\n",
        "  c1 = Conv2D(64, (3,3), activation = 'relu', padding = 'same')(c1)\n",
        "  c1 = BatchNormalization()(c1)\n",
        "  p1 = MaxPooling2D(pool_size=(2,2))(c1)\n",
        "  \n",
        "  c2 = Conv2D(128, (3,3), activation = 'relu', padding='same')(p1)\n",
        "  c2 = BatchNormalization()(c2)\n",
        "  c2 = Conv2D(128, (3,3), activation = 'relu', padding = 'same')(c2)\n",
        "  c2 = BatchNormalization()(c2)\n",
        "  p2 = MaxPooling2D(pool_size=(2,2))(c2)\n",
        "  p2 = Dropout(0.3)(p2)\n",
        "  \n",
        "  c3 = Conv2D(256, (3,3), activation = 'relu', padding='same')(p2)\n",
        "  c3 = BatchNormalization()(c3)\n",
        "  c3 = Conv2D(256, (3,3), activation = 'relu', padding = 'same')(c3)\n",
        "  c3 = BatchNormalization()(c3)\n",
        "  p3 = MaxPooling2D(pool_size=(2,2))(c3)\n",
        "  \n",
        "  c4 = Conv2D(512, (3,3), activation = 'relu', padding='same')(p3)\n",
        "  c4 = BatchNormalization()(c4)\n",
        "  c4 = Conv2D(512, (3,3), activation = 'relu', padding = 'same')(c4)\n",
        "  c4 = BatchNormalization()(c4)\n",
        "  p4 = MaxPooling2D(pool_size=(2,2))(c4)\n",
        "  \n",
        "  c5 = Conv2D(1024, (3,3), activation = 'relu', padding='same')(p4)\n",
        "  c5 = BatchNormalization()(c5)\n",
        "  c5 = Conv2D(1024, (3,3), activation = 'relu', padding = 'same')(c5)\n",
        "  c5 = BatchNormalization()(c5)\n",
        "  \n",
        "  #Decoder\n",
        "  u6 = Conv2DTranspose(512, (3,3), activation = 'relu', strides = (2,2), padding = 'same')(c5)\n",
        "  concat6 = concatenate([u6,c4])\n",
        "  c6 = Conv2D(512, (3,3), activation = 'relu', padding = 'same')(concat6)\n",
        "  c6 = BatchNormalization()(c6)\n",
        "  c6 = Conv2D(512, (3,3), activation = 'relu', padding = 'same')(c6)\n",
        "  c6 = BatchNormalization()(c6)\n",
        "  \n",
        "  u7 = Conv2DTranspose(256, (3,3), activation = 'relu', strides = (2,2), padding = 'same')(c6)\n",
        "  concat7 = concatenate([u7,c3])\n",
        "  c7 = Conv2D(256, (3,3), activation = 'relu', padding = 'same')(concat7)\n",
        "  c7 = BatchNormalization()(c7)\n",
        "  c7 = Conv2D(256, (3,3), activation = 'relu', padding = 'same')(c7)\n",
        "  c7 = BatchNormalization()(c7)\n",
        "  \n",
        "  u8 = Conv2DTranspose(128, (3,3), activation = 'relu', strides = (2,2), padding = 'same')(c7)\n",
        "  concat8 = concatenate([u8,c2])\n",
        "  c8 = Conv2D(128, (3,3), activation = 'relu', padding = 'same')(concat8)\n",
        "  c8 = BatchNormalization()(c8)\n",
        "  c8 = Conv2D(128, (3,3), activation = 'relu', padding = 'same')(c8)\n",
        "  c8 = BatchNormalization()(c8)\n",
        "  C8 = Dropout(0.3)(c8)\n",
        "  \n",
        "  u9 = Conv2DTranspose(64, (3,3), activation = 'relu', strides = (2,2), padding = 'same')(c8)\n",
        "  concat9 = concatenate([u9,c1])\n",
        "  c9 = Conv2D(64, (3,3), activation = 'relu', padding = 'same')(concat9)\n",
        "  c9 = BatchNormalization()(c9)\n",
        "  c9 = Conv2D(64, (3,3), activation = 'relu', padding = 'same')(c9)\n",
        "  c9 = BatchNormalization()(c9)\n",
        "  \n",
        "  c10 = Conv2D(2, (1,1), activation = 'sigmoid')(c9)\n",
        "  \n",
        "  model = Model(input=inp, output=c10)\n",
        "  model.compile(optimizer = Adam(), loss = 'categorical_crossentropy', metrics = [iou_coef] )\n",
        "  \n",
        "  if(weights):\n",
        "    model.load_weights(weights)\n",
        "    \n",
        "  return model\n",
        "  \n",
        "  "
      ],
      "execution_count": 0,
      "outputs": []
    },
    {
      "cell_type": "code",
      "metadata": {
        "id": "sflr9hLMS3rc",
        "colab_type": "code",
        "colab": {}
      },
      "source": [
        "model = unet()"
      ],
      "execution_count": 0,
      "outputs": []
    },
    {
      "cell_type": "markdown",
      "metadata": {
        "id": "dAeJJKlykc0M",
        "colab_type": "text"
      },
      "source": [
        "##Model Traning"
      ]
    },
    {
      "cell_type": "code",
      "metadata": {
        "id": "K3IISqC4S5N0",
        "colab_type": "code",
        "outputId": "d9a2c850-506a-4c27-916b-6a1bea4541f6",
        "colab": {
          "base_uri": "https://localhost:8080/",
          "height": 474
        }
      },
      "source": [
        "model_fit = model.fit(x=train_X,y=train_y, validation_data=(val_X,val_y), batch_size = 1, epochs=10)"
      ],
      "execution_count": 0,
      "outputs": [
        {
          "output_type": "stream",
          "text": [
            "WARNING:tensorflow:From /usr/local/lib/python3.6/dist-packages/tensorflow/python/ops/math_grad.py:1250: add_dispatch_support.<locals>.wrapper (from tensorflow.python.ops.array_ops) is deprecated and will be removed in a future version.\n",
            "Instructions for updating:\n",
            "Use tf.where in 2.0, which has the same broadcast rule as np.where\n",
            "Train on 1578 samples, validate on 218 samples\n",
            "Epoch 1/10\n",
            "1578/1578 [==============================] - 677s 429ms/step - loss: 0.0017 - iou_coef: 0.9617 - val_loss: 0.0028 - val_iou_coef: 0.9594\n",
            "Epoch 2/10\n",
            "1578/1578 [==============================] - 665s 421ms/step - loss: 0.0014 - iou_coef: 0.9615 - val_loss: 0.0057 - val_iou_coef: 0.9514\n",
            "Epoch 3/10\n",
            "1578/1578 [==============================] - 665s 421ms/step - loss: 0.0014 - iou_coef: 0.9613 - val_loss: 0.0028 - val_iou_coef: 0.9625\n",
            "Epoch 4/10\n",
            "1578/1578 [==============================] - 664s 421ms/step - loss: 0.0013 - iou_coef: 0.9626 - val_loss: 0.0030 - val_iou_coef: 0.9675\n",
            "Epoch 5/10\n",
            "1578/1578 [==============================] - 664s 421ms/step - loss: 0.0011 - iou_coef: 0.9655 - val_loss: 0.0034 - val_iou_coef: 0.9695\n",
            "Epoch 6/10\n",
            "1578/1578 [==============================] - 664s 421ms/step - loss: 0.0011 - iou_coef: 0.9685 - val_loss: 0.0037 - val_iou_coef: 0.9697\n",
            "Epoch 7/10\n",
            "1578/1578 [==============================] - 663s 420ms/step - loss: 9.7582e-04 - iou_coef: 0.9695 - val_loss: 0.0035 - val_iou_coef: 0.9622\n",
            "Epoch 8/10\n",
            "1578/1578 [==============================] - 664s 421ms/step - loss: 9.5863e-04 - iou_coef: 0.9694 - val_loss: 0.0031 - val_iou_coef: 0.9694\n",
            "Epoch 9/10\n",
            "1578/1578 [==============================] - 664s 421ms/step - loss: 8.7054e-04 - iou_coef: 0.9711 - val_loss: 0.0038 - val_iou_coef: 0.9695\n",
            "Epoch 10/10\n",
            "1578/1578 [==============================] - 664s 421ms/step - loss: 7.6503e-04 - iou_coef: 0.9716 - val_loss: 0.0035 - val_iou_coef: 0.9699\n"
          ],
          "name": "stdout"
        }
      ]
    },
    {
      "cell_type": "markdown",
      "metadata": {
        "id": "eDHisZV3jBO7",
        "colab_type": "text"
      },
      "source": [
        "##Plotting Training Curves"
      ]
    },
    {
      "cell_type": "code",
      "metadata": {
        "id": "MdY0qE82KrAm",
        "colab_type": "code",
        "outputId": "372e32ee-f561-4394-8d70-751e33518beb",
        "colab": {
          "base_uri": "https://localhost:8080/",
          "height": 313
        }
      },
      "source": [
        "import matplotlib.pyplot as plt\n",
        "%matplotlib inline\n",
        "plt.plot(model_fit.history['iou_coef'])\n",
        "plt.xlabel('epochs')\n",
        "plt.ylabel('dice_coef')\n",
        "plt.title('Training Set')"
      ],
      "execution_count": 0,
      "outputs": [
        {
          "output_type": "execute_result",
          "data": {
            "text/plain": [
              "Text(0.5, 1.0, 'Training Set')"
            ]
          },
          "metadata": {
            "tags": []
          },
          "execution_count": 34
        },
        {
          "output_type": "display_data",
          "data": {
            "image/png": "[encoded data removed]",
            "text/plain": [
              "<Figure size 432x288 with 1 Axes>"
            ]
          },
          "metadata": {
            "tags": []
          }
        }
      ]
    },
    {
      "cell_type": "code",
      "metadata": {
        "id": "joBk8xaMKs_7",
        "colab_type": "code",
        "outputId": "5dfb6ef6-daa3-451a-fa62-ef4faccd2298",
        "colab": {
          "base_uri": "https://localhost:8080/",
          "height": 313
        }
      },
      "source": [
        "plt.plot(model_fit.history['val_iou_coef'])\n",
        "plt.xlabel('epochs')\n",
        "plt.ylabel('dice_coef')\n",
        "plt.title('Validation Set')"
      ],
      "execution_count": 0,
      "outputs": [
        {
          "output_type": "execute_result",
          "data": {
            "text/plain": [
              "Text(0.5, 1.0, 'Validation Set')"
            ]
          },
          "metadata": {
            "tags": []
          },
          "execution_count": 35
        },
        {
          "output_type": "display_data",
          "data": {
            "image/png": "[encoded data removed]",
            "text/plain": [
              "<Figure size 432x288 with 1 Axes>"
            ]
          },
          "metadata": {
            "tags": []
          }
        }
      ]
    },
    {
      "cell_type": "code",
      "metadata": {
        "id": "m9Icuv32KxAt",
        "colab_type": "code",
        "outputId": "df77f9bd-8d4b-4b77-cdbf-da802f091921",
        "colab": {
          "base_uri": "https://localhost:8080/",
          "height": 313
        }
      },
      "source": [
        "plt.plot(model_fit.history['loss'])\n",
        "plt.xlabel('epochs')\n",
        "plt.ylabel('loss')\n",
        "plt.title('Training Set')"
      ],
      "execution_count": 0,
      "outputs": [
        {
          "output_type": "execute_result",
          "data": {
            "text/plain": [
              "Text(0.5, 1.0, 'Training Set')"
            ]
          },
          "metadata": {
            "tags": []
          },
          "execution_count": 36
        },
        {
          "output_type": "display_data",
          "data": {
            "image/png": "[encoded data removed]",
            "text/plain": [
              "<Figure size 432x288 with 1 Axes>"
            ]
          },
          "metadata": {
            "tags": []
          }
        }
      ]
    },
    {
      "cell_type": "code",
      "metadata": {
        "id": "sWgCEJ3OKzNo",
        "colab_type": "code",
        "outputId": "64810dca-dad1-40cb-bfd5-7003d3fab95e",
        "colab": {
          "base_uri": "https://localhost:8080/",
          "height": 313
        }
      },
      "source": [
        "plt.plot(model_fit.history['val_loss'])\n",
        "plt.xlabel('epochs')\n",
        "plt.ylabel('loss')\n",
        "plt.title('Validation Set')"
      ],
      "execution_count": 0,
      "outputs": [
        {
          "output_type": "execute_result",
          "data": {
            "text/plain": [
              "Text(0.5, 1.0, 'Validation Set')"
            ]
          },
          "metadata": {
            "tags": []
          },
          "execution_count": 37
        },
        {
          "output_type": "display_data",
          "data": {
            "image/png": "[encoded data removed]",
            "text/plain": [
              "<Figure size 432x288 with 1 Axes>"
            ]
          },
          "metadata": {
            "tags": []
          }
        }
      ]
    },
    {
      "cell_type": "markdown",
      "metadata": {
        "id": "fasvIUT7jUaV",
        "colab_type": "text"
      },
      "source": [
        "##Making Predictions on Test Data"
      ]
    },
    {
      "cell_type": "code",
      "metadata": {
        "id": "ZNxMtoyh7CSz",
        "colab_type": "code",
        "outputId": "77268c10-0160-4a2c-a19d-c5cdbde659bc",
        "colab": {
          "base_uri": "https://localhost:8080/",
          "height": 35
        }
      },
      "source": [
        "pred = model.predict(test_X, batch_size=1, verbose=1)"
      ],
      "execution_count": 0,
      "outputs": [
        {
          "output_type": "stream",
          "text": [
            "455/455 [==============================] - 66s 145ms/step\n"
          ],
          "name": "stdout"
        }
      ]
    },
    {
      "cell_type": "code",
      "metadata": {
        "id": "f1HPq9Pm7j7X",
        "colab_type": "code",
        "outputId": "57a03015-f252-46c5-d0e8-d9dad56646ac",
        "colab": {
          "base_uri": "https://localhost:8080/",
          "height": 35
        }
      },
      "source": [
        "print(pred.shape)\n",
        "#converting shape to back to single channel\n",
        "pred_new = np.argmax(pred, axis=3, out=None)"
      ],
      "execution_count": 0,
      "outputs": [
        {
          "output_type": "execute_result",
          "data": {
            "text/plain": [
              "(455, 320, 320, 2)"
            ]
          },
          "metadata": {
            "tags": []
          },
          "execution_count": 39
        }
      ]
    },
    {
      "cell_type": "code",
      "metadata": {
        "id": "2afWDfVa8CSv",
        "colab_type": "code",
        "outputId": "7ca891e9-a7e5-4d99-8d43-ff73108c5da6",
        "colab": {
          "base_uri": "https://localhost:8080/",
          "height": 35
        }
      },
      "source": [
        "print(pred_new.shape)\n",
        "pred_new = pred_new.astype('float32')\n"
      ],
      "execution_count": 0,
      "outputs": [
        {
          "output_type": "execute_result",
          "data": {
            "text/plain": [
              "(455, 320, 320)"
            ]
          },
          "metadata": {
            "tags": []
          },
          "execution_count": 198
        }
      ]
    },
    {
      "cell_type": "markdown",
      "metadata": {
        "id": "y43sN7qWknxb",
        "colab_type": "text"
      },
      "source": [
        "##Calculating Dice Scores of Test Examples"
      ]
    },
    {
      "cell_type": "code",
      "metadata": {
        "id": "iQC_BH338pLH",
        "colab_type": "code",
        "outputId": "56b50b3b-7eb5-4a17-8aec-315ecb6c1c4c",
        "colab": {
          "base_uri": "https://localhost:8080/",
          "height": 183
        }
      },
      "source": [
        "temp = []\n",
        "for i in range(455):\n",
        "  temp.append(k.eval(iou_coef(((test_Y[i,:,:])),(pred_new[i,:,:]))))\n"
      ],
      "execution_count": 0,
      "outputs": [
        {
          "output_type": "stream",
          "text": [
            "WARNING:tensorflow:From /usr/local/lib/python3.6/dist-packages/keras/backend/tensorflow_backend.py:190: The name tf.get_default_session is deprecated. Please use tf.compat.v1.get_default_session instead.\n",
            "\n",
            "WARNING:tensorflow:From /usr/local/lib/python3.6/dist-packages/keras/backend/tensorflow_backend.py:197: The name tf.ConfigProto is deprecated. Please use tf.compat.v1.ConfigProto instead.\n",
            "\n",
            "WARNING:tensorflow:From /usr/local/lib/python3.6/dist-packages/keras/backend/tensorflow_backend.py:203: The name tf.Session is deprecated. Please use tf.compat.v1.Session instead.\n",
            "\n",
            "WARNING:tensorflow:From /usr/local/lib/python3.6/dist-packages/keras/backend/tensorflow_backend.py:207: The name tf.global_variables is deprecated. Please use tf.compat.v1.global_variables instead.\n",
            "\n"
          ],
          "name": "stdout"
        }
      ]
    },
    {
      "cell_type": "code",
      "metadata": {
        "id": "zHoZH8QsoQrv",
        "colab_type": "code",
        "colab": {}
      },
      "source": [
        "t = np.asarray(temp)\n",
        "dice = np.zeros(len(temp))\n",
        "for i in range(455):\n",
        "  if (t[i] > 0.5):\n",
        "    dice[i] = 1\n",
        "  else:\n",
        "    dice[i] = 0"
      ],
      "execution_count": 0,
      "outputs": []
    },
    {
      "cell_type": "code",
      "metadata": {
        "id": "4PzHOLBeUCEc",
        "colab_type": "code",
        "outputId": "b612999b-4bac-4b32-e6ca-8595e10ab2ba",
        "colab": {
          "base_uri": "https://localhost:8080/",
          "height": 35
        }
      },
      "source": [
        "np.sum(dice)/455"
      ],
      "execution_count": 0,
      "outputs": [
        {
          "output_type": "execute_result",
          "data": {
            "text/plain": [
              "0.8879120879120879"
            ]
          },
          "metadata": {
            "tags": []
          },
          "execution_count": 21
        }
      ]
    },
    {
      "cell_type": "code",
      "metadata": {
        "id": "Di0RX_fSMJkT",
        "colab_type": "code",
        "outputId": "515a1b5e-b912-486a-e975-8967ab386241",
        "colab": {
          "base_uri": "https://localhost:8080/",
          "height": 35
        }
      },
      "source": [
        "print('Average Dice Score: ' + str(np.sum(dice)/455))"
      ],
      "execution_count": 0,
      "outputs": [
        {
          "output_type": "stream",
          "text": [
            "Average Dice Score: 0.8879120879120879\n"
          ],
          "name": "stdout"
        }
      ]
    },
    {
      "cell_type": "code",
      "metadata": {
        "id": "Y5pEKJiqMOS1",
        "colab_type": "code",
        "outputId": "c14f3dea-de67-4882-a7ac-f1116dd1c21b",
        "colab": {
          "base_uri": "https://localhost:8080/",
          "height": 35
        }
      },
      "source": [
        "print('Variance: ' + str(np.var(dice)))"
      ],
      "execution_count": 0,
      "outputs": [
        {
          "output_type": "stream",
          "text": [
            "Variance: 0.0995242120516846\n"
          ],
          "name": "stdout"
        }
      ]
    },
    {
      "cell_type": "markdown",
      "metadata": {
        "id": "78qmq29z_L6Y",
        "colab_type": "text"
      },
      "source": [
        "##Test Statistics"
      ]
    },
    {
      "cell_type": "code",
      "metadata": {
        "id": "HPsQbTd89LSq",
        "colab_type": "code",
        "colab": {}
      },
      "source": [
        "def tp(y_pred, y_true):\n",
        "  y_pred = k.eval(k.flatten(y_pred))\n",
        "  y_true = k.eval(k.flatten(y_true))\n",
        "  return (k.sum(y_pred*y_true))\n",
        "\n",
        "def fn(y_pred, y_true):\n",
        "  y_pred = (k.flatten(y_pred))\n",
        "  y_true = (k.flatten(y_true))\n",
        "  op0 = k.sum(y_true)\n",
        "  op1 = k.sum(y_pred*y_true)\n",
        "  return (op0 - op1)\n",
        "\n",
        "def tn(y_pred, y_true):\n",
        "  y_pred = (k.flatten(y_pred))\n",
        "  y_true = (k.flatten(y_true))\n",
        "  op1 = (1-y_pred)\n",
        "  op2 = (1-y_true)\n",
        "  return (k.sum(op1*op2))\n",
        "\n",
        "def fp(y_pred, y_true):\n",
        "  y_pred = (k.flatten(y_pred))\n",
        "  y_true = (k.flatten(y_true))\n",
        "  op0 = k.sum(1 - y_true)\n",
        "  op1 = (1-y_pred)\n",
        "  op2 = (1- y_true)\n",
        "  op3 = k.sum(op1*op2)\n",
        "  return (op0 - op3)"
      ],
      "execution_count": 0,
      "outputs": []
    },
    {
      "cell_type": "code",
      "metadata": {
        "id": "VvYuzXgl9mju",
        "colab_type": "code",
        "colab": {}
      },
      "source": [
        "TP = []\n",
        "for i in range(455):\n",
        "  TP.append(k.eval(tp(pred_new[i,:,:], test_Y[i,:,:])))"
      ],
      "execution_count": 0,
      "outputs": []
    },
    {
      "cell_type": "code",
      "metadata": {
        "id": "uRBXbzlq9uY2",
        "colab_type": "code",
        "colab": {}
      },
      "source": [
        "TN = []\n",
        "for i in range(455):\n",
        "  TN.append(k.eval(tn(pred_new[i,:,:], test_Y[i,:,:])))"
      ],
      "execution_count": 0,
      "outputs": []
    },
    {
      "cell_type": "code",
      "metadata": {
        "id": "J0vMcUdx9xQN",
        "colab_type": "code",
        "colab": {}
      },
      "source": [
        "FP = []\n",
        "for i in range(455):\n",
        "  FP.append(k.eval(fp(pred_new[i,:,:], test_Y[i,:,:])))"
      ],
      "execution_count": 0,
      "outputs": []
    },
    {
      "cell_type": "code",
      "metadata": {
        "id": "zPH8my2X9zyY",
        "colab_type": "code",
        "colab": {}
      },
      "source": [
        "FN = []\n",
        "for i in range(455):\n",
        "  FN.append(k.eval(fn(pred_new[i,:,:], test_Y[i,:,:])))"
      ],
      "execution_count": 0,
      "outputs": []
    },
    {
      "cell_type": "code",
      "metadata": {
        "id": "xHWeibD7-N-e",
        "colab_type": "code",
        "colab": {}
      },
      "source": [
        "tp = np.asarray(TP)\n",
        "tn = np.asarray(TN)\n",
        "fp = np.asarray(FP)\n",
        "fn = np.asarray(FN)"
      ],
      "execution_count": 0,
      "outputs": []
    },
    {
      "cell_type": "markdown",
      "metadata": {
        "id": "tT7EOnmD_dMp",
        "colab_type": "text"
      },
      "source": [
        "##Large Segment Example"
      ]
    },
    {
      "cell_type": "code",
      "metadata": {
        "id": "A0jYKKM8U3dp",
        "colab_type": "code",
        "outputId": "6a2dbe41-aebf-44f4-b0e4-2ddc8bf917a6",
        "colab": {
          "base_uri": "https://localhost:8080/",
          "height": 337
        }
      },
      "source": [
        "cv2_imshow(test_X[421,:,:] * 255.0)"
      ],
      "execution_count": 0,
      "outputs": [
        {
          "output_type": "display_data",
          "data": {
            "image/png": "[encoded data removed]",
            "text/plain": [
              "<PIL.Image.Image image mode=L size=320x320 at 0x7F793EDA7DD8>"
            ]
          },
          "metadata": {
            "tags": []
          }
        }
      ]
    },
    {
      "cell_type": "code",
      "metadata": {
        "id": "76h8Up3PS0L7",
        "colab_type": "code",
        "outputId": "aeb269c1-56ff-4c53-a8d1-67c5fa7a44b1",
        "colab": {
          "base_uri": "https://localhost:8080/",
          "height": 337
        }
      },
      "source": [
        "cv2_imshow(pred_new[421,:,:] * 255.0)"
      ],
      "execution_count": 0,
      "outputs": [
        {
          "output_type": "display_data",
          "data": {
            "image/png": "[encoded data removed]",
            "text/plain": [
              "<PIL.Image.Image image mode=L size=320x320 at 0x7F79475CBF28>"
            ]
          },
          "metadata": {
            "tags": []
          }
        }
      ]
    },
    {
      "cell_type": "code",
      "metadata": {
        "id": "vcoaOfQxUc0y",
        "colab_type": "code",
        "outputId": "1bb76445-e9ee-4227-ebe2-81db522e18a4",
        "colab": {
          "base_uri": "https://localhost:8080/",
          "height": 337
        }
      },
      "source": [
        " cv2_imshow(test_Y[421,:,:] * 255.0)"
      ],
      "execution_count": 0,
      "outputs": [
        {
          "output_type": "display_data",
          "data": {
            "image/png": "[encoded data removed]",
            "text/plain": [
              "<PIL.Image.Image image mode=L size=320x320 at 0x7F793EDA7FD0>"
            ]
          },
          "metadata": {
            "tags": []
          }
        }
      ]
    },
    {
      "cell_type": "markdown",
      "metadata": {
        "id": "AuOpnU9u_k0M",
        "colab_type": "text"
      },
      "source": [
        "##Small Segment Example"
      ]
    },
    {
      "cell_type": "code",
      "metadata": {
        "id": "A_J-wdkaVLDw",
        "colab_type": "code",
        "outputId": "c1de74a8-1827-4a7d-d02e-16471ef4f573",
        "colab": {
          "base_uri": "https://localhost:8080/",
          "height": 337
        }
      },
      "source": [
        "cv2_imshow(test_X[271,:,:] * 255.0)\n"
      ],
      "execution_count": 0,
      "outputs": [
        {
          "output_type": "display_data",
          "data": {
            "image/png": "[encoded data removed]",
            "text/plain": [
              "<PIL.Image.Image image mode=L size=320x320 at 0x7F793ED0E4E0>"
            ]
          },
          "metadata": {
            "tags": []
          }
        }
      ]
    },
    {
      "cell_type": "code",
      "metadata": {
        "id": "9qikPlKHUOyk",
        "colab_type": "code",
        "outputId": "cfe5be95-271b-4c4a-9d54-edf74a527ff5",
        "colab": {
          "base_uri": "https://localhost:8080/",
          "height": 337
        }
      },
      "source": [
        "cv2_imshow(test_Y[271,:,:] * 255.0)"
      ],
      "execution_count": 0,
      "outputs": [
        {
          "output_type": "display_data",
          "data": {
            "image/png": "[encoded data removed]",
            "text/plain": [
              "<PIL.Image.Image image mode=L size=320x320 at 0x7F793ED0E6D8>"
            ]
          },
          "metadata": {
            "tags": []
          }
        }
      ]
    },
    {
      "cell_type": "code",
      "metadata": {
        "id": "zASUigW3VEq9",
        "colab_type": "code",
        "outputId": "b4164d4f-47c2-4a70-d7a5-816ff48d6720",
        "colab": {
          "base_uri": "https://localhost:8080/",
          "height": 337
        }
      },
      "source": [
        "cv2_imshow(pred_new[271,:,:] * 255.0)"
      ],
      "execution_count": 0,
      "outputs": [
        {
          "output_type": "display_data",
          "data": {
            "image/png": "[encoded data removed]",
            "text/plain": [
              "<PIL.Image.Image image mode=L size=320x320 at 0x7F793ED0E240>"
            ]
          },
          "metadata": {
            "tags": []
          }
        }
      ]
    },
    {
      "cell_type": "code",
      "metadata": {
        "id": "CX3Xy10M-4Ay",
        "colab_type": "code",
        "colab": {}
      },
      "source": [
        ""
      ],
      "execution_count": 0,
      "outputs": []
    }
  ]
}